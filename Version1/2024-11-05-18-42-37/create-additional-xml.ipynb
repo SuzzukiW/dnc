{
 "cells": [
  {
   "cell_type": "code",
   "execution_count": 8,
   "metadata": {},
   "outputs": [],
   "source": [
    "import xml.etree.ElementTree as ET\n",
    "from xml.dom import minidom\n",
    "\n",
    "# Read the txt file\n",
    "with open('traffic_light_ids.txt', 'r') as file:\n",
    "    ids = [line.strip() for line in file.readlines() if line.strip()]\n",
    "\n",
    "# Create the root element\n",
    "additional = ET.Element('additional')\n",
    "\n",
    "# Function to add timed events to the XML structure\n",
    "def add_timed_events(source):\n",
    "    events = [\n",
    "        {\"type\": \"SaveTLSStates\", \"dest\": f\"{source}_tls_states.xml\", \"saveDetectors\": \"true\", \"saveConditions\": \"true\"},\n",
    "        {\"type\": \"SaveTLSSwitchTimes\", \"dest\": f\"{source}_tls_switches.xml\"},\n",
    "        {\"type\": \"SaveTLSSwitchStates\", \"dest\": f\"{source}_tls_switch_states.xml\"},\n",
    "        {\"type\": \"SaveTLSProgram\", \"dest\": f\"{source}_tls_programs.xml\"},\n",
    "    ]\n",
    "    for event in events:\n",
    "        timedEvent = ET.SubElement(additional, \"timedEvent\", type=event[\"type\"], source=source, dest=event[\"dest\"])\n",
    "        if \"saveDetectors\" in event:\n",
    "            timedEvent.set(\"saveDetectors\", event[\"saveDetectors\"])\n",
    "        if \"saveConditions\" in event:\n",
    "            timedEvent.set(\"saveConditions\", event[\"saveConditions\"])\n",
    "\n",
    "# Add timed events for each ID\n",
    "for source_id in ids:\n",
    "    add_timed_events(source_id)\n",
    "\n",
    "# Generate a string of the XML and pretty-print it with the XML declaration\n",
    "xml_str = ET.tostring(additional, encoding=\"utf-8\")\n",
    "pretty_xml = minidom.parseString(xml_str).toprettyxml(indent=\"    \")\n",
    "\n",
    "# Write the XML to file, ensuring the XML declaration is included\n",
    "with open(\"additional.xml\", \"w\", encoding=\"UTF-8\") as file:\n",
    "    file.write(pretty_xml)"
   ]
  }
 ],
 "metadata": {
  "kernelspec": {
   "display_name": "base",
   "language": "python",
   "name": "python3"
  },
  "language_info": {
   "codemirror_mode": {
    "name": "ipython",
    "version": 3
   },
   "file_extension": ".py",
   "mimetype": "text/x-python",
   "name": "python",
   "nbconvert_exporter": "python",
   "pygments_lexer": "ipython3",
   "version": "3.11.7"
  }
 },
 "nbformat": 4,
 "nbformat_minor": 2
}
