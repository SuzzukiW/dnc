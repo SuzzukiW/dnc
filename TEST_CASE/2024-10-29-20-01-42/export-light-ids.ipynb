{
 "cells": [
  {
   "cell_type": "code",
   "execution_count": 14,
   "metadata": {},
   "outputs": [
    {
     "name": "stdout",
     "output_type": "stream",
     "text": [
      " Retrying in 1 seconds\n"
     ]
    },
    {
     "ename": "KeyboardInterrupt",
     "evalue": "",
     "output_type": "error",
     "traceback": [
      "\u001b[0;31m---------------------------------------------------------------------------\u001b[0m",
      "\u001b[0;31mKeyboardInterrupt\u001b[0m                         Traceback (most recent call last)",
      "Cell \u001b[0;32mIn[14], line 6\u001b[0m\n\u001b[1;32m      4\u001b[0m sumo_binary \u001b[38;5;241m=\u001b[39m \u001b[38;5;124m\"\u001b[39m\u001b[38;5;124msumo-gui\u001b[39m\u001b[38;5;124m\"\u001b[39m  \u001b[38;5;66;03m# or \"sumo\" for command line\u001b[39;00m\n\u001b[1;32m      5\u001b[0m sumo_cmd \u001b[38;5;241m=\u001b[39m [sumo_binary, \u001b[38;5;124m\"\u001b[39m\u001b[38;5;124m-c\u001b[39m\u001b[38;5;124m\"\u001b[39m, \u001b[38;5;124m\"\u001b[39m\u001b[38;5;124mosm.sumocfg\u001b[39m\u001b[38;5;124m\"\u001b[39m]\n\u001b[0;32m----> 6\u001b[0m traci\u001b[38;5;241m.\u001b[39mstart(sumo_cmd)\n",
      "File \u001b[0;32m/opt/anaconda3/lib/python3.11/site-packages/traci/main.py:147\u001b[0m, in \u001b[0;36mstart\u001b[0;34m(cmd, port, numRetries, label, verbose, traceFile, traceGetters, stdout, doSwitch)\u001b[0m\n\u001b[1;32m    145\u001b[0m sumoProcess \u001b[38;5;241m=\u001b[39m subprocess\u001b[38;5;241m.\u001b[39mPopen(cmd2, stdout\u001b[38;5;241m=\u001b[39mstdout)\n\u001b[1;32m    146\u001b[0m \u001b[38;5;28;01mtry\u001b[39;00m:\n\u001b[0;32m--> 147\u001b[0m     result \u001b[38;5;241m=\u001b[39m init(sumoPort, numRetries, \u001b[38;5;124m\"\u001b[39m\u001b[38;5;124mlocalhost\u001b[39m\u001b[38;5;124m\"\u001b[39m, label, sumoProcess, doSwitch, traceFile, traceGetters)\n\u001b[1;32m    148\u001b[0m     \u001b[38;5;28;01mif\u001b[39;00m traceFile \u001b[38;5;129;01mis\u001b[39;00m \u001b[38;5;129;01mnot\u001b[39;00m \u001b[38;5;28;01mNone\u001b[39;00m:\n\u001b[1;32m    149\u001b[0m         connection\u001b[38;5;241m.\u001b[39mget(label)\u001b[38;5;241m.\u001b[39mwrite(\u001b[38;5;124m\"\u001b[39m\u001b[38;5;124mstart\u001b[39m\u001b[38;5;124m\"\u001b[39m, \u001b[38;5;124m\"\u001b[39m\u001b[38;5;132;01m%s\u001b[39;00m\u001b[38;5;124m, port=\u001b[39m\u001b[38;5;132;01m%s\u001b[39;00m\u001b[38;5;124m, label=\u001b[39m\u001b[38;5;132;01m%s\u001b[39;00m\u001b[38;5;124m\"\u001b[39m \u001b[38;5;241m%\u001b[39m (\u001b[38;5;28mrepr\u001b[39m(cmd), \u001b[38;5;28mrepr\u001b[39m(port), \u001b[38;5;28mrepr\u001b[39m(label)))\n",
      "File \u001b[0;32m/opt/anaconda3/lib/python3.11/site-packages/traci/main.py:119\u001b[0m, in \u001b[0;36minit\u001b[0;34m(port, numRetries, host, label, proc, doSwitch, traceFile, traceGetters)\u001b[0m\n\u001b[1;32m    117\u001b[0m \u001b[38;5;28;01mif\u001b[39;00m doSwitch:\n\u001b[1;32m    118\u001b[0m     switch(label)\n\u001b[0;32m--> 119\u001b[0m \u001b[38;5;28;01mreturn\u001b[39;00m con\u001b[38;5;241m.\u001b[39mgetVersion()\n",
      "File \u001b[0;32m/opt/anaconda3/lib/python3.11/site-packages/traci/connection.py:382\u001b[0m, in \u001b[0;36mConnection.getVersion\u001b[0;34m(self)\u001b[0m\n\u001b[1;32m    380\u001b[0m \u001b[38;5;28;01mdef\u001b[39;00m \u001b[38;5;21mgetVersion\u001b[39m(\u001b[38;5;28mself\u001b[39m):\n\u001b[1;32m    381\u001b[0m     command \u001b[38;5;241m=\u001b[39m tc\u001b[38;5;241m.\u001b[39mCMD_GETVERSION\n\u001b[0;32m--> 382\u001b[0m     result \u001b[38;5;241m=\u001b[39m \u001b[38;5;28mself\u001b[39m\u001b[38;5;241m.\u001b[39m_sendCmd(command, \u001b[38;5;28;01mNone\u001b[39;00m, \u001b[38;5;28;01mNone\u001b[39;00m)\n\u001b[1;32m    383\u001b[0m     result\u001b[38;5;241m.\u001b[39mreadLength()\n\u001b[1;32m    384\u001b[0m     response \u001b[38;5;241m=\u001b[39m result\u001b[38;5;241m.\u001b[39mread(\u001b[38;5;124m\"\u001b[39m\u001b[38;5;124m!B\u001b[39m\u001b[38;5;124m\"\u001b[39m)[\u001b[38;5;241m0\u001b[39m]\n",
      "File \u001b[0;32m/opt/anaconda3/lib/python3.11/site-packages/traci/connection.py:232\u001b[0m, in \u001b[0;36mConnection._sendCmd\u001b[0;34m(self, cmdID, varID, objID, format, *values)\u001b[0m\n\u001b[1;32m    230\u001b[0m     \u001b[38;5;28mself\u001b[39m\u001b[38;5;241m.\u001b[39m_string \u001b[38;5;241m+\u001b[39m\u001b[38;5;241m=\u001b[39m struct\u001b[38;5;241m.\u001b[39mpack(\u001b[38;5;124m\"\u001b[39m\u001b[38;5;124m!i\u001b[39m\u001b[38;5;124m\"\u001b[39m, \u001b[38;5;28mlen\u001b[39m(objID)) \u001b[38;5;241m+\u001b[39m objID\n\u001b[1;32m    231\u001b[0m \u001b[38;5;28mself\u001b[39m\u001b[38;5;241m.\u001b[39m_string \u001b[38;5;241m+\u001b[39m\u001b[38;5;241m=\u001b[39m packed\n\u001b[0;32m--> 232\u001b[0m \u001b[38;5;28;01mreturn\u001b[39;00m \u001b[38;5;28mself\u001b[39m\u001b[38;5;241m.\u001b[39m_sendExact()\n",
      "File \u001b[0;32m/opt/anaconda3/lib/python3.11/site-packages/traci/connection.py:131\u001b[0m, in \u001b[0;36mConnection._sendExact\u001b[0;34m(self)\u001b[0m\n\u001b[1;32m    129\u001b[0m     \u001b[38;5;28mprint\u001b[39m(\u001b[38;5;124m\"\u001b[39m\u001b[38;5;124msending\u001b[39m\u001b[38;5;124m\"\u001b[39m, Storage(length \u001b[38;5;241m+\u001b[39m \u001b[38;5;28mself\u001b[39m\u001b[38;5;241m.\u001b[39m_string)\u001b[38;5;241m.\u001b[39mgetDebugString())\n\u001b[1;32m    130\u001b[0m \u001b[38;5;28mself\u001b[39m\u001b[38;5;241m.\u001b[39m_socket\u001b[38;5;241m.\u001b[39msend(length \u001b[38;5;241m+\u001b[39m \u001b[38;5;28mself\u001b[39m\u001b[38;5;241m.\u001b[39m_string)\n\u001b[0;32m--> 131\u001b[0m result \u001b[38;5;241m=\u001b[39m \u001b[38;5;28mself\u001b[39m\u001b[38;5;241m.\u001b[39m_recvExact()\n\u001b[1;32m    132\u001b[0m \u001b[38;5;28;01mif\u001b[39;00m _DEBUG:\n\u001b[1;32m    133\u001b[0m     \u001b[38;5;28mprint\u001b[39m(\u001b[38;5;124m\"\u001b[39m\u001b[38;5;124mreceiving\u001b[39m\u001b[38;5;124m\"\u001b[39m, result\u001b[38;5;241m.\u001b[39mgetDebugString())\n",
      "File \u001b[0;32m/opt/anaconda3/lib/python3.11/site-packages/traci/connection.py:109\u001b[0m, in \u001b[0;36mConnection._recvExact\u001b[0;34m(self)\u001b[0m\n\u001b[1;32m    107\u001b[0m result \u001b[38;5;241m=\u001b[39m \u001b[38;5;28mbytes\u001b[39m()\n\u001b[1;32m    108\u001b[0m \u001b[38;5;28;01mwhile\u001b[39;00m \u001b[38;5;28mlen\u001b[39m(result) \u001b[38;5;241m<\u001b[39m \u001b[38;5;241m4\u001b[39m:\n\u001b[0;32m--> 109\u001b[0m     t \u001b[38;5;241m=\u001b[39m \u001b[38;5;28mself\u001b[39m\u001b[38;5;241m.\u001b[39m_socket\u001b[38;5;241m.\u001b[39mrecv(\u001b[38;5;241m4\u001b[39m \u001b[38;5;241m-\u001b[39m \u001b[38;5;28mlen\u001b[39m(result))\n\u001b[1;32m    110\u001b[0m     \u001b[38;5;28;01mif\u001b[39;00m \u001b[38;5;129;01mnot\u001b[39;00m t:\n\u001b[1;32m    111\u001b[0m         \u001b[38;5;28;01mreturn\u001b[39;00m \u001b[38;5;28;01mNone\u001b[39;00m\n",
      "\u001b[0;31mKeyboardInterrupt\u001b[0m: "
     ]
    }
   ],
   "source": [
    "import traci\n",
    "\n",
    "# Start SUMO with TraCI\n",
    "sumo_binary = \"sumo-gui\"  # or \"sumo\" for command line\n",
    "sumo_cmd = [sumo_binary, \"-c\", \"osm.sumocfg\"]\n",
    "traci.start(sumo_cmd)"
   ]
  },
  {
   "cell_type": "code",
   "execution_count": 8,
   "metadata": {},
   "outputs": [],
   "source": [
    "traci.close()"
   ]
  },
  {
   "cell_type": "code",
   "execution_count": 12,
   "metadata": {},
   "outputs": [
    {
     "name": "stdout",
     "output_type": "stream",
     "text": [
      "Traffic Light IDs: ('11728768465', '2271068245', '2446048051', '3178035442', '731633428', '7637209538', 'GS_cluster_1830597858_1830597861_373201043_61356529', 'GS_cluster_61354590_7619054123_7619054124_7619054125_#1more', 'GS_cluster_61376981_7164884744_7164884745_7164884746_#1more', 'cluster_11728768466_61352265_7637209536_7637209539', 'cluster_11752021663_61352485', 'cluster_11761823158_11761856677_61436218_61436223', 'cluster_11895267758_11895267759_1196431205_2095827220', 'cluster_11958703793_11958703795_11958703796_61363787', 'cluster_1325838536_1830597865_345446433_61340485', 'cluster_1411414510_61352474', 'cluster_1411414594_1522224154_5514811218_61361176_#4more', 'cluster_1522224088_7616280449_7617345283', 'cluster_1522224147_1522224270_1522224470_6162811288_#5more', 'cluster_2401902057_61365039_7634061578_7634061579', 'cluster_2540099018_61353551_61365156_7619054116_#1more', 'cluster_2930238817_61340487_7629652921', 'cluster_5213494631_5213494632_61436571_6653205525_#4more', 'cluster_61352245_7616280443_7616280444_7616280445_#1more', 'cluster_61354584_7623094020_7629652945', 'cluster_61410462_6653188438_6653188460_6653188462_#1more', 'cluster_61422223_61422230_7634061549_7634061555_#4more', 'cluster_61436212_6653205510_7637209799_7675912759_#1more', 'joinedS_1620565369_2095791302_2271068238_cluster_61436523_6653188483', 'joinedS_5212674999_5212675000_cluster_1047223939_1411414534_1411414667_1411414690_#5more_cluster_1411414519_1411414530_8741453309', 'joinedS_6162811352_6162811354_7617355591_7617355592_#1more', 'joinedS_cluster_12068988261_12068988262_5203429421_cluster_5203017333_5203017334_5203017335_5203039222_#3more', 'joinedS_cluster_1522515145_61350471_61379091_7617297216_#6more_cluster_7686490609_7686490610')\n"
     ]
    }
   ],
   "source": [
    "# Get all traffic light IDs\n",
    "light_ids = traci.trafficlight.getIDList()\n",
    "\n",
    "# Print or save the list\n",
    "print(\"Traffic Light IDs:\", light_ids)\n",
    "\n",
    "# Optionally, write to a file\n",
    "with open(\"traffic_light_ids.txt\", \"w\") as file:\n",
    "    for light_id in light_ids:\n",
    "        file.write(light_id + \"\\n\")\n",
    "\n",
    "# Close the TraCI connection\n",
    "traci.close()"
   ]
  },
  {
   "cell_type": "code",
   "execution_count": 13,
   "metadata": {},
   "outputs": [
    {
     "name": "stdout",
     "output_type": "stream",
     "text": [
      " Retrying in 1 seconds\n",
      "***Starting server on port 62111 ***\n"
     ]
    },
    {
     "name": "stderr",
     "output_type": "stream",
     "text": [
      "Warning: Environment variable SUMO_HOME is not set properly, disabling XML validation. Set 'auto' or 'always' for web lookups.\n"
     ]
    },
    {
     "name": "stdout",
     "output_type": "stream",
     "text": [
      "Loading net-file from 'osm.net.xml.gz' ... done (211ms).\n",
      "Loading additional-files from 'osm.poly.xml.gz' ... done (5ms).\n",
      "Loading done.\n",
      "Simulation version 1.20.0 started with time: 0.00.\n",
      "Simulation ended at time: 0.00\n",
      "Reason: TraCI requested termination.\n",
      "Performance: \n",
      " Duration: 0.04s\n",
      " TraCI-Duration: 0.00s\n",
      " Real time factor: 0\n",
      " UPS: 0.000000\n",
      "Vehicles: \n",
      " Inserted: 0 (Loaded: 9)\n",
      " Running: 0\n",
      " Waiting: 0\n",
      "Persons: \n",
      " Inserted: 2\n",
      " Running: 0\n",
      "Statistics (avg of 0):\n",
      " RouteLength: 0.00\n",
      " Speed: 0.00\n",
      " Duration: 0.00\n",
      " WaitingTime: 0.00\n",
      " TimeLoss: 0.00\n",
      " DepartDelay: 0.00\n",
      "\n"
     ]
    },
    {
     "name": "stderr",
     "output_type": "stream",
     "text": [
      "Warning: Program '0' at tlLogic 'joinedS_6162811352_6162811354_7617355591_7617355592_#1more' is incompatible with logic at junction 'cluster_6162811347_6162811348_8980650952_8980650953' (mutual conflict between link indices 3,7 tl indices 14,18 phase 12).\n",
      "  To avoid deadlock/collisions, either: rebuild the signal plan with a newer version of netconvert/netedit\n",
      "  or rebuild the network with option '--tls.ignore-internal-junction-jam' or include the program when building.\n"
     ]
    }
   ],
   "source": [
    "import traci\n",
    "\n",
    "# Start SUMO with TraCI\n",
    "sumo_binary = \"sumo\"  # or \"sumo-gui\" if you want the GUI\n",
    "sumo_cmd = [sumo_binary, \"-c\", \"osm.sumocfg\"]\n",
    "traci.start(sumo_cmd)\n",
    "\n",
    "# Get all traffic light IDs\n",
    "light_ids = traci.trafficlight.getIDList()\n",
    "\n",
    "# Generate XML entries\n",
    "with open(\"additional.xml\", \"w\") as file:\n",
    "    file.write('<?xml version=\"1.0\" encoding=\"UTF-8\"?>\\n')\n",
    "    file.write('<additional>\\n')\n",
    "    \n",
    "    for light_id in light_ids:\n",
    "        file.write(f'\\t<timedEvent type=\"SaveTLSStates\" source=\"{light_id}\" dest=\"{light_id}_tls_states.xml\" saveDetectors=\"true\" saveConditions=\"true\"/>\\n')\n",
    "        file.write(f'\\t<timedEvent type=\"SaveTLSSwitchTimes\" source=\"{light_id}\" dest=\"{light_id}_tls_switches.xml\"/>\\n')\n",
    "        file.write(f'\\t<timedEvent type=\"SaveTLSSwitchStates\" source=\"{light_id}\" dest=\"{light_id}_tls_switch_states.xml\"/>\\n')\n",
    "        file.write(f'\\t<timedEvent type=\"SaveTLSProgram\" source=\"{light_id}\" dest=\"{light_id}_tls_programs.xml\"/>\\n')\n",
    "    \n",
    "    file.write('</additional>\\n')\n",
    "\n",
    "# Close the TraCI connection\n",
    "traci.close()"
   ]
  }
 ],
 "metadata": {
  "kernelspec": {
   "display_name": "base",
   "language": "python",
   "name": "python3"
  },
  "language_info": {
   "codemirror_mode": {
    "name": "ipython",
    "version": 3
   },
   "file_extension": ".py",
   "mimetype": "text/x-python",
   "name": "python",
   "nbconvert_exporter": "python",
   "pygments_lexer": "ipython3",
   "version": "3.11.7"
  }
 },
 "nbformat": 4,
 "nbformat_minor": 2
}
